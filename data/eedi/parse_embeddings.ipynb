{
 "cells": [
  {
   "cell_type": "markdown",
   "metadata": {},
   "source": [
    "# Description\n",
    "\n",
    "First read the usage of simulate_responses/make_bert.ipynb.\n",
    "\n",
    "To use the outputted csvs from here with LENS, put the file sentencebert_embeddings or mathbert_embeddings in some data directory, rename the file bert_eedi.csv,\n",
    "and rename the column with the vectors bert_vectors"
   ]
  },
  {
   "cell_type": "code",
   "execution_count": 1,
   "metadata": {},
   "outputs": [],
   "source": [
    "import pandas as pd\n",
    "import numpy as np\n",
    "import ast"
   ]
  },
  {
   "cell_type": "code",
   "execution_count": 3,
   "metadata": {},
   "outputs": [],
   "source": [
    "df = pd.read_csv('question_embeddings.csv')"
   ]
  },
  {
   "cell_type": "code",
   "execution_count": 4,
   "metadata": {},
   "outputs": [],
   "source": [
    "def clean_tensor(tensor, mode):\n",
    "    if mode == 'mathbert':\n",
    "      tensor = tensor[7:-1]\n",
    "      tensor = tensor.replace('\\n', '')\n",
    "      while '  ' in tensor:\n",
    "          tensor = tensor.replace('  ', ' ')\n",
    "    elif mode == 'sentencebert':\n",
    "      tensor = tensor.replace('[ ', '[')\n",
    "      tensor = tensor.replace(' ]', ']')\n",
    "      while '  ' in tensor:\n",
    "          tensor = tensor.replace('  ', ' ')\n",
    "      tensor = tensor.replace(' ', ', ')\n",
    "      \n",
    "    tensor = ast.literal_eval(tensor)\n",
    "    tensor = np.array(tensor)\n",
    "    return list(tensor)"
   ]
  },
  {
   "cell_type": "code",
   "execution_count": null,
   "metadata": {},
   "outputs": [],
   "source": [
    "df['mathbert'] = df['mathbert'].apply(lambda x: clean_tensor(x, 'mathbert'))\n",
    "df['sentencebert'] = df['sentencebert'].apply(lambda x: clean_tensor(x, 'sentencebert'))\n",
    "df.rename(columns={'QuestionId': 'itemid'}, inplace=True)"
   ]
  },
  {
   "cell_type": "code",
   "execution_count": 9,
   "metadata": {},
   "outputs": [],
   "source": [
    "mathbert = df[['mathbert', 'itemid']]\n",
    "sentencebert = df[['sentencebert', 'itemid']]"
   ]
  },
  {
   "cell_type": "code",
   "execution_count": 10,
   "metadata": {},
   "outputs": [],
   "source": [
    "mathbert.to_csv('mathbert_embeddings.csv', index=False)\n",
    "sentencebert.to_csv('sentencebert_embeddings.csv', index=False)"
   ]
  },
  {
   "cell_type": "code",
   "execution_count": null,
   "metadata": {},
   "outputs": [],
   "source": []
  }
 ],
 "metadata": {
  "kernelspec": {
   "display_name": "nlp",
   "language": "python",
   "name": "python3"
  },
  "language_info": {
   "codemirror_mode": {
    "name": "ipython",
    "version": 3
   },
   "file_extension": ".py",
   "mimetype": "text/x-python",
   "name": "python",
   "nbconvert_exporter": "python",
   "pygments_lexer": "ipython3",
   "version": "3.10.15"
  }
 },
 "nbformat": 4,
 "nbformat_minor": 2
}
